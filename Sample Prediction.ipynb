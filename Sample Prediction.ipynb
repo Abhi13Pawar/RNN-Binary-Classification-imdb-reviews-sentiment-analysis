{
 "cells": [
  {
   "cell_type": "markdown",
   "metadata": {},
   "source": [
    "## This file is making to just check the model is working fine or not in main app it is not really uused"
   ]
  },
  {
   "cell_type": "code",
   "execution_count": 5,
   "metadata": {},
   "outputs": [],
   "source": [
    "#Import Libraries and Load the Model\n",
    "import numpy as np\n",
    "import tensorflow as tf\n",
    "from tensorflow.keras.datasets import imdb\n",
    "from tensorflow.keras.preprocessing import sequence\n",
    "from tensorflow.keras.models import load_model"
   ]
  },
  {
   "cell_type": "code",
   "execution_count": 6,
   "metadata": {},
   "outputs": [
    {
     "data": {
      "text/plain": [
       "\"\\n-word_index: The dictionary returned by get_word_index() contains words as keys and their unique integer indices as values. For example, word_index['awesome'] might return an index like 1234.\\n\\n\\nExample:\\nIf the original word_index contains:\\n{'the': 1, 'and': 2, 'a': 3, ...}\\n\\nThen reverse_word_index would be:\\n{1: 'the', 2: 'and', 3: 'a', ...}\\n\\n\""
      ]
     },
     "execution_count": 6,
     "metadata": {},
     "output_type": "execute_result"
    }
   ],
   "source": [
    "\n",
    "# Load the IMDB dataset word index\n",
    "word_index = imdb.get_word_index()\n",
    "reverse_word_index = {value: key for key, value in word_index.items()}\n",
    "\n",
    "'''\n",
    "-word_index: The dictionary returned by get_word_index() contains words as keys and their unique integer indices as values. For example, word_index['awesome'] might return an index like 1234.\n",
    "\n",
    "\n",
    "Example:\n",
    "If the original word_index contains:\n",
    "{'the': 1, 'and': 2, 'a': 3, ...}\n",
    "\n",
    "Then reverse_word_index would be:\n",
    "{1: 'the', 2: 'and', 3: 'a', ...}\n",
    "\n",
    "'''"
   ]
  },
  {
   "cell_type": "code",
   "execution_count": 7,
   "metadata": {},
   "outputs": [
    {
     "name": "stderr",
     "output_type": "stream",
     "text": [
      "WARNING:absl:Compiled the loaded model, but the compiled metrics have yet to be built. `model.compile_metrics` will be empty until you train or evaluate the model.\n"
     ]
    },
    {
     "data": {
      "text/html": [
       "<pre style=\"white-space:pre;overflow-x:auto;line-height:normal;font-family:Menlo,'DejaVu Sans Mono',consolas,'Courier New',monospace\"><span style=\"font-weight: bold\">Model: \"sequential\"</span>\n",
       "</pre>\n"
      ],
      "text/plain": [
       "\u001b[1mModel: \"sequential\"\u001b[0m\n"
      ]
     },
     "metadata": {},
     "output_type": "display_data"
    },
    {
     "data": {
      "text/html": [
       "<pre style=\"white-space:pre;overflow-x:auto;line-height:normal;font-family:Menlo,'DejaVu Sans Mono',consolas,'Courier New',monospace\">┏━━━━━━━━━━━━━━━━━━━━━━━━━━━━━━━━━┳━━━━━━━━━━━━━━━━━━━━━━━━┳━━━━━━━━━━━━━━━┓\n",
       "┃<span style=\"font-weight: bold\"> Layer (type)                    </span>┃<span style=\"font-weight: bold\"> Output Shape           </span>┃<span style=\"font-weight: bold\">       Param # </span>┃\n",
       "┡━━━━━━━━━━━━━━━━━━━━━━━━━━━━━━━━━╇━━━━━━━━━━━━━━━━━━━━━━━━╇━━━━━━━━━━━━━━━┩\n",
       "│ embedding (<span style=\"color: #0087ff; text-decoration-color: #0087ff\">Embedding</span>)           │ (<span style=\"color: #00af00; text-decoration-color: #00af00\">32</span>, <span style=\"color: #00af00; text-decoration-color: #00af00\">500</span>, <span style=\"color: #00af00; text-decoration-color: #00af00\">128</span>)         │     <span style=\"color: #00af00; text-decoration-color: #00af00\">1,280,000</span> │\n",
       "├─────────────────────────────────┼────────────────────────┼───────────────┤\n",
       "│ simple_rnn (<span style=\"color: #0087ff; text-decoration-color: #0087ff\">SimpleRNN</span>)          │ (<span style=\"color: #00af00; text-decoration-color: #00af00\">32</span>, <span style=\"color: #00af00; text-decoration-color: #00af00\">128</span>)              │        <span style=\"color: #00af00; text-decoration-color: #00af00\">32,896</span> │\n",
       "├─────────────────────────────────┼────────────────────────┼───────────────┤\n",
       "│ dense (<span style=\"color: #0087ff; text-decoration-color: #0087ff\">Dense</span>)                   │ (<span style=\"color: #00af00; text-decoration-color: #00af00\">32</span>, <span style=\"color: #00af00; text-decoration-color: #00af00\">1</span>)                │           <span style=\"color: #00af00; text-decoration-color: #00af00\">129</span> │\n",
       "└─────────────────────────────────┴────────────────────────┴───────────────┘\n",
       "</pre>\n"
      ],
      "text/plain": [
       "┏━━━━━━━━━━━━━━━━━━━━━━━━━━━━━━━━━┳━━━━━━━━━━━━━━━━━━━━━━━━┳━━━━━━━━━━━━━━━┓\n",
       "┃\u001b[1m \u001b[0m\u001b[1mLayer (type)                   \u001b[0m\u001b[1m \u001b[0m┃\u001b[1m \u001b[0m\u001b[1mOutput Shape          \u001b[0m\u001b[1m \u001b[0m┃\u001b[1m \u001b[0m\u001b[1m      Param #\u001b[0m\u001b[1m \u001b[0m┃\n",
       "┡━━━━━━━━━━━━━━━━━━━━━━━━━━━━━━━━━╇━━━━━━━━━━━━━━━━━━━━━━━━╇━━━━━━━━━━━━━━━┩\n",
       "│ embedding (\u001b[38;5;33mEmbedding\u001b[0m)           │ (\u001b[38;5;34m32\u001b[0m, \u001b[38;5;34m500\u001b[0m, \u001b[38;5;34m128\u001b[0m)         │     \u001b[38;5;34m1,280,000\u001b[0m │\n",
       "├─────────────────────────────────┼────────────────────────┼───────────────┤\n",
       "│ simple_rnn (\u001b[38;5;33mSimpleRNN\u001b[0m)          │ (\u001b[38;5;34m32\u001b[0m, \u001b[38;5;34m128\u001b[0m)              │        \u001b[38;5;34m32,896\u001b[0m │\n",
       "├─────────────────────────────────┼────────────────────────┼───────────────┤\n",
       "│ dense (\u001b[38;5;33mDense\u001b[0m)                   │ (\u001b[38;5;34m32\u001b[0m, \u001b[38;5;34m1\u001b[0m)                │           \u001b[38;5;34m129\u001b[0m │\n",
       "└─────────────────────────────────┴────────────────────────┴───────────────┘\n"
      ]
     },
     "metadata": {},
     "output_type": "display_data"
    },
    {
     "data": {
      "text/html": [
       "<pre style=\"white-space:pre;overflow-x:auto;line-height:normal;font-family:Menlo,'DejaVu Sans Mono',consolas,'Courier New',monospace\"><span style=\"font-weight: bold\"> Total params: </span><span style=\"color: #00af00; text-decoration-color: #00af00\">1,313,027</span> (5.01 MB)\n",
       "</pre>\n"
      ],
      "text/plain": [
       "\u001b[1m Total params: \u001b[0m\u001b[38;5;34m1,313,027\u001b[0m (5.01 MB)\n"
      ]
     },
     "metadata": {},
     "output_type": "display_data"
    },
    {
     "data": {
      "text/html": [
       "<pre style=\"white-space:pre;overflow-x:auto;line-height:normal;font-family:Menlo,'DejaVu Sans Mono',consolas,'Courier New',monospace\"><span style=\"font-weight: bold\"> Trainable params: </span><span style=\"color: #00af00; text-decoration-color: #00af00\">1,313,025</span> (5.01 MB)\n",
       "</pre>\n"
      ],
      "text/plain": [
       "\u001b[1m Trainable params: \u001b[0m\u001b[38;5;34m1,313,025\u001b[0m (5.01 MB)\n"
      ]
     },
     "metadata": {},
     "output_type": "display_data"
    },
    {
     "data": {
      "text/html": [
       "<pre style=\"white-space:pre;overflow-x:auto;line-height:normal;font-family:Menlo,'DejaVu Sans Mono',consolas,'Courier New',monospace\"><span style=\"font-weight: bold\"> Non-trainable params: </span><span style=\"color: #00af00; text-decoration-color: #00af00\">0</span> (0.00 B)\n",
       "</pre>\n"
      ],
      "text/plain": [
       "\u001b[1m Non-trainable params: \u001b[0m\u001b[38;5;34m0\u001b[0m (0.00 B)\n"
      ]
     },
     "metadata": {},
     "output_type": "display_data"
    },
    {
     "data": {
      "text/html": [
       "<pre style=\"white-space:pre;overflow-x:auto;line-height:normal;font-family:Menlo,'DejaVu Sans Mono',consolas,'Courier New',monospace\"><span style=\"font-weight: bold\"> Optimizer params: </span><span style=\"color: #00af00; text-decoration-color: #00af00\">2</span> (12.00 B)\n",
       "</pre>\n"
      ],
      "text/plain": [
       "\u001b[1m Optimizer params: \u001b[0m\u001b[38;5;34m2\u001b[0m (12.00 B)\n"
      ]
     },
     "metadata": {},
     "output_type": "display_data"
    }
   ],
   "source": [
    "#Load the pre-trained model with ReLU activation\n",
    "\n",
    "model = load_model('model.h5')\n",
    "model.summary()"
   ]
  },
  {
   "cell_type": "code",
   "execution_count": 8,
   "metadata": {},
   "outputs": [
    {
     "data": {
      "text/plain": [
       "[array([[ 0.46044856,  0.5867418 ,  0.96509075, ..., -0.88891196,\n",
       "          1.007696  ,  0.88573956],\n",
       "        [-0.0215467 , -0.06999254,  0.03150658, ...,  0.07485278,\n",
       "          0.05114808, -0.00781481],\n",
       "        [-0.04535539, -0.11572082, -0.03610932, ..., -0.00169213,\n",
       "          0.22031894, -0.08843322],\n",
       "        ...,\n",
       "        [-0.07840376,  0.03465871, -0.02091326, ..., -0.10198586,\n",
       "          0.00469155, -0.0477661 ],\n",
       "        [-0.06467996, -0.10796855,  0.01832477, ...,  0.03263797,\n",
       "          0.17060836, -0.18187344],\n",
       "        [-0.10140432,  0.13768192, -0.14234358, ..., -0.19341926,\n",
       "          0.0192659 , -0.05904301]], dtype=float32),\n",
       " array([[ 0.03340361, -0.18361734, -0.02069686, ...,  0.01724135,\n",
       "          0.08064402,  0.0565758 ],\n",
       "        [-0.16015166,  0.05447466,  0.03225753, ...,  0.18803199,\n",
       "          0.00930142, -0.02976175],\n",
       "        [-0.16434821, -0.08828343,  0.06151417, ...,  0.17175014,\n",
       "          0.06303702, -0.06430829],\n",
       "        ...,\n",
       "        [ 0.13330837,  0.06195008, -0.12305903, ...,  0.04771054,\n",
       "          0.06985169, -0.04635747],\n",
       "        [ 0.14733264,  0.03466512, -0.07915796, ..., -0.15959689,\n",
       "         -0.16269138,  0.0134606 ],\n",
       "        [ 0.20247374, -0.00100715, -0.09837426, ...,  0.10633437,\n",
       "          0.13126984,  0.06798683]], dtype=float32),\n",
       " array([[ 0.12046088, -0.04755955, -0.23840635, ..., -0.19745208,\n",
       "         -0.13440965, -0.0085754 ],\n",
       "        [ 0.01222726,  0.02511218, -0.01621974, ...,  0.04833135,\n",
       "          0.15338142, -0.00097965],\n",
       "        [ 0.07447977,  0.07346691, -0.0127091 , ...,  0.03468365,\n",
       "          0.09020317, -0.06120362],\n",
       "        ...,\n",
       "        [-0.13520387, -0.01678051, -0.00688663, ..., -0.02302723,\n",
       "         -0.06118937, -0.05470374],\n",
       "        [ 0.10342995, -0.18066542,  0.22631219, ...,  0.1093692 ,\n",
       "         -0.23160343,  0.11864492],\n",
       "        [ 0.11196699,  0.00782577,  0.03508713, ..., -0.15091212,\n",
       "         -0.11936761,  0.04164056]], dtype=float32),\n",
       " array([ 0.04470931, -0.01455953, -0.07337523,  0.03024701, -0.03439573,\n",
       "        -0.03295021, -0.02834104,  0.08571392, -0.06236409, -0.01069397,\n",
       "         0.07965606, -0.02704936,  0.01138178, -0.0147086 , -0.01700439,\n",
       "        -0.06153557, -0.0106671 , -0.0159702 ,  0.01222458, -0.04394966,\n",
       "         0.07315133,  0.03479462,  0.06443778,  0.02854792, -0.0292833 ,\n",
       "         0.01481419, -0.0417191 , -0.0364372 , -0.06456301, -0.03368973,\n",
       "         0.03909899, -0.038452  ,  0.0402979 , -0.00835903,  0.03265542,\n",
       "         0.00482231, -0.02662919, -0.01311104, -0.03137849, -0.04378758,\n",
       "        -0.00795356, -0.02906463,  0.06797343, -0.01045043, -0.02659921,\n",
       "         0.01259805, -0.04714015, -0.02012892, -0.03298767, -0.01321549,\n",
       "        -0.03311238, -0.0334686 ,  0.02193534,  0.02476233,  0.01415774,\n",
       "         0.0358833 ,  0.03914977, -0.0128406 ,  0.00765935, -0.07755788,\n",
       "         0.0164405 , -0.02436713, -0.03871066, -0.03145758, -0.03233603,\n",
       "        -0.01879924,  0.09077796, -0.00322105, -0.03784833, -0.00201161,\n",
       "        -0.07740156,  0.00847564, -0.0335603 , -0.04438675,  0.00909089,\n",
       "        -0.04450394,  0.08455389, -0.06173495, -0.01916765, -0.00247788,\n",
       "         0.06433284, -0.02771018, -0.04618174, -0.04397457,  0.01281132,\n",
       "        -0.07585338,  0.02525829,  0.01260716,  0.02586265,  0.04203663,\n",
       "        -0.05756876, -0.07036784, -0.04177546, -0.01670251,  0.05909767,\n",
       "        -0.00253117,  0.02706154, -0.03729535,  0.06282162, -0.03083218,\n",
       "        -0.01678009,  0.00320379, -0.03069145, -0.00413852, -0.00241385,\n",
       "        -0.01914097, -0.05362902, -0.02761741, -0.02174059, -0.02202999,\n",
       "        -0.04726097,  0.00340179,  0.01178101, -0.01699403, -0.04192022,\n",
       "        -0.02471902, -0.0258081 ,  0.02547935, -0.0568064 , -0.04265589,\n",
       "        -0.0105828 , -0.00411406,  0.03061697, -0.05182318, -0.06564642,\n",
       "         0.00297548, -0.06335472, -0.0184304 ], dtype=float32),\n",
       " array([[ 0.20700893],\n",
       "        [-0.23807028],\n",
       "        [-0.18518041],\n",
       "        [-0.08685584],\n",
       "        [-0.00285948],\n",
       "        [-0.15578412],\n",
       "        [-0.23057058],\n",
       "        [ 0.16629727],\n",
       "        [-0.16189368],\n",
       "        [ 0.1149347 ],\n",
       "        [-0.02933789],\n",
       "        [-0.03932446],\n",
       "        [ 0.15124188],\n",
       "        [ 0.21385705],\n",
       "        [ 0.15175942],\n",
       "        [-0.1100857 ],\n",
       "        [ 0.16175435],\n",
       "        [ 0.23027262],\n",
       "        [-0.05736827],\n",
       "        [ 0.13003364],\n",
       "        [ 0.03026527],\n",
       "        [ 0.16266488],\n",
       "        [ 0.35476193],\n",
       "        [ 0.2714137 ],\n",
       "        [-0.16161892],\n",
       "        [-0.2196077 ],\n",
       "        [ 0.03296544],\n",
       "        [-0.23347211],\n",
       "        [ 0.27797106],\n",
       "        [-0.10357573],\n",
       "        [-0.24032462],\n",
       "        [ 0.3290308 ],\n",
       "        [-0.11870446],\n",
       "        [-0.08661056],\n",
       "        [ 0.0133081 ],\n",
       "        [ 0.05606377],\n",
       "        [ 0.20670271],\n",
       "        [-0.26933694],\n",
       "        [ 0.26657456],\n",
       "        [-0.07566707],\n",
       "        [ 0.09160924],\n",
       "        [ 0.09127606],\n",
       "        [ 0.10673044],\n",
       "        [ 0.32121435],\n",
       "        [-0.10476023],\n",
       "        [ 0.02758407],\n",
       "        [ 0.03519965],\n",
       "        [-0.15668632],\n",
       "        [ 0.17451477],\n",
       "        [-0.06949887],\n",
       "        [-0.13520193],\n",
       "        [ 0.1098619 ],\n",
       "        [-0.08292522],\n",
       "        [ 0.0394998 ],\n",
       "        [ 0.0114987 ],\n",
       "        [ 0.27374277],\n",
       "        [-0.07254122],\n",
       "        [-0.02298441],\n",
       "        [-0.00903275],\n",
       "        [ 0.07067385],\n",
       "        [ 0.06721405],\n",
       "        [ 0.07153821],\n",
       "        [ 0.03962212],\n",
       "        [-0.12849022],\n",
       "        [ 0.07643397],\n",
       "        [-0.09402306],\n",
       "        [-0.12171656],\n",
       "        [-0.44424325],\n",
       "        [ 0.10938894],\n",
       "        [ 0.22438294],\n",
       "        [ 0.08979135],\n",
       "        [ 0.02110059],\n",
       "        [ 0.14424372],\n",
       "        [ 0.1863704 ],\n",
       "        [-0.20376334],\n",
       "        [ 0.27259815],\n",
       "        [-0.19310294],\n",
       "        [-0.03694239],\n",
       "        [ 0.370995  ],\n",
       "        [ 0.07126001],\n",
       "        [-0.02285822],\n",
       "        [ 0.05977601],\n",
       "        [ 0.08522689],\n",
       "        [ 0.299519  ],\n",
       "        [-0.0086761 ],\n",
       "        [ 0.19396476],\n",
       "        [-0.07492951],\n",
       "        [ 0.20703734],\n",
       "        [ 0.12907016],\n",
       "        [ 0.23821434],\n",
       "        [ 0.09516031],\n",
       "        [ 0.01258411],\n",
       "        [-0.07559636],\n",
       "        [ 0.23531464],\n",
       "        [ 0.16680136],\n",
       "        [ 0.04993487],\n",
       "        [-0.03822877],\n",
       "        [ 0.1950422 ],\n",
       "        [-0.16182102],\n",
       "        [-0.08225995],\n",
       "        [ 0.04020856],\n",
       "        [ 0.27734435],\n",
       "        [-0.0395161 ],\n",
       "        [ 0.11400216],\n",
       "        [-0.10555412],\n",
       "        [ 0.61380005],\n",
       "        [ 0.11012385],\n",
       "        [-0.17135173],\n",
       "        [-0.06024781],\n",
       "        [ 0.05232653],\n",
       "        [ 0.13883233],\n",
       "        [-0.13994417],\n",
       "        [ 0.07937037],\n",
       "        [-0.08439015],\n",
       "        [-0.1854459 ],\n",
       "        [ 0.16340177],\n",
       "        [-0.16918358],\n",
       "        [-0.05601265],\n",
       "        [-0.23872158],\n",
       "        [ 0.03250904],\n",
       "        [ 0.65071726],\n",
       "        [-0.18648675],\n",
       "        [-0.23524211],\n",
       "        [-0.08316279],\n",
       "        [ 0.16692406],\n",
       "        [ 0.03353139],\n",
       "        [ 0.1600595 ],\n",
       "        [ 0.23005034]], dtype=float32),\n",
       " array([1.8999114], dtype=float32)]"
      ]
     },
     "execution_count": 8,
     "metadata": {},
     "output_type": "execute_result"
    }
   ],
   "source": [
    "model.get_weights()"
   ]
  },
  {
   "cell_type": "code",
   "execution_count": 9,
   "metadata": {},
   "outputs": [
    {
     "data": {
      "text/plain": [
       "'\\n[word_index.get(word, 2) + 3 for word in words]:\\n\\n-word_index: This is a dictionary where the keys are words, and the values are their corresponding integer indices. It\\'s the reverse of reverse_word_index.\\n-word_index.get(word, 2): Retrieves the index of the word from word_index. If the word is not found in the dictionary, it returns 2, which often corresponds to a special token (like \"unknown\").\\n-(+ 3): The indices are adjusted by adding 3, similar to the decoding function, to account for special tokens.\\n\\n-------------------------------------------------------------------------------------------------------------------------------------------------------------------------------------------------------\\n\\nsequence.pad_sequences([encoded_review], maxlen=500):\\n\\n[encoded_review]: The encoded review is wrapped in a list because pad_sequences expects a list of sequences.\\nmaxlen=500: This sets the maximum length of the sequence to 500. If the review is shorter than 500 words, it will be padded; if longer, it will be truncated.\\n'"
      ]
     },
     "execution_count": 9,
     "metadata": {},
     "output_type": "execute_result"
    }
   ],
   "source": [
    "# Step 2: Helper Functions\n",
    "\n",
    "# Function to decode reviews\n",
    "def decode_review(encoded_review):\n",
    "    return ' '.join([reverse_word_index.get(i - 3, '?') for i in encoded_review])\n",
    "\n",
    "# Function to preprocess user input\n",
    "def preprocess_text(text):\n",
    "    words = text.lower().split()  ## Converts the entire text to lowercase, split(): Splits the text into a list of words based on spaces\n",
    "    encoded_review = [word_index.get(word, 2) + 3 for word in words]\n",
    "    padded_review = sequence.pad_sequences([encoded_review], maxlen=500)\n",
    "    return padded_review\n",
    "\n",
    "\n",
    "'''\n",
    "[word_index.get(word, 2) + 3 for word in words]:\n",
    "\n",
    "-word_index: This is a dictionary where the keys are words, and the values are their corresponding integer indices. It's the reverse of reverse_word_index.\n",
    "-word_index.get(word, 2): Retrieves the index of the word from word_index. If the word is not found in the dictionary, it returns 2, which often corresponds to a special token (like \"unknown\").\n",
    "-(+ 3): The indices are adjusted by adding 3, similar to the decoding function, to account for special tokens.\n",
    "\n",
    "-------------------------------------------------------------------------------------------------------------------------------------------------------------------------------------------------------\n",
    "\n",
    "sequence.pad_sequences([encoded_review], maxlen=500):\n",
    "\n",
    "[encoded_review]: The encoded review is wrapped in a list because pad_sequences expects a list of sequences.\n",
    "maxlen=500: This sets the maximum length of the sequence to 500. If the review is shorter than 500 words, it will be padded; if longer, it will be truncated.\n",
    "'''"
   ]
  },
  {
   "cell_type": "code",
   "execution_count": 10,
   "metadata": {},
   "outputs": [],
   "source": [
    "### Prediction  function\n",
    "\n",
    "def predict_sentiment(review):\n",
    "    preprocessed_input=preprocess_text(review)\n",
    "\n",
    "    prediction=model.predict(preprocessed_input)\n",
    "\n",
    "    sentiment = 'Positive' if prediction[0][0] > 0.5 else 'Negative'\n",
    "    \n",
    "    return sentiment, prediction[0][0]\n",
    "\n"
   ]
  },
  {
   "cell_type": "code",
   "execution_count": 11,
   "metadata": {},
   "outputs": [
    {
     "name": "stdout",
     "output_type": "stream",
     "text": [
      "\u001b[1m1/1\u001b[0m \u001b[32m━━━━━━━━━━━━━━━━━━━━\u001b[0m\u001b[37m\u001b[0m \u001b[1m0s\u001b[0m 329ms/step\n",
      "Review: This movie was fantastic\n",
      "Sentiment: Positive\n",
      "Prediction Score: 0.6690710783004761\n"
     ]
    }
   ],
   "source": [
    "# Step 4: User Input and Prediction\n",
    "# Example review for prediction\n",
    "example_review = \"This movie was fantastic\"\n",
    "\n",
    "sentiment,score=predict_sentiment(example_review)\n",
    "\n",
    "print(f'Review: {example_review}')\n",
    "print(f'Sentiment: {sentiment}')\n",
    "print(f'Prediction Score: {score}')"
   ]
  },
  {
   "cell_type": "code",
   "execution_count": null,
   "metadata": {},
   "outputs": [],
   "source": []
  },
  {
   "cell_type": "code",
   "execution_count": null,
   "metadata": {},
   "outputs": [],
   "source": []
  },
  {
   "cell_type": "code",
   "execution_count": null,
   "metadata": {},
   "outputs": [],
   "source": []
  },
  {
   "cell_type": "code",
   "execution_count": null,
   "metadata": {},
   "outputs": [],
   "source": []
  }
 ],
 "metadata": {
  "kernelspec": {
   "display_name": "Python 3",
   "language": "python",
   "name": "python3"
  },
  "language_info": {
   "codemirror_mode": {
    "name": "ipython",
    "version": 3
   },
   "file_extension": ".py",
   "mimetype": "text/x-python",
   "name": "python",
   "nbconvert_exporter": "python",
   "pygments_lexer": "ipython3",
   "version": "3.12.4"
  }
 },
 "nbformat": 4,
 "nbformat_minor": 2
}
