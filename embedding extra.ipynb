{
 "cells": [
  {
   "cell_type": "code",
   "execution_count": 1,
   "metadata": {},
   "outputs": [],
   "source": [
    "from tensorflow.keras.preprocessing.text import one_hot"
   ]
  },
  {
   "cell_type": "code",
   "execution_count": 2,
   "metadata": {},
   "outputs": [],
   "source": [
    "### sentences\n",
    "sent=[  'the glass of milk',\n",
    "     'the glass of juice',\n",
    "     'the cup of tea',\n",
    "    'I am a good boy',\n",
    "     'I am a good developer',\n",
    "     'understand the meaning of words',\n",
    "     'your videos are good',]"
   ]
  },
  {
   "cell_type": "code",
   "execution_count": 3,
   "metadata": {},
   "outputs": [
    {
     "data": {
      "text/plain": [
       "['the glass of milk',\n",
       " 'the glass of juice',\n",
       " 'the cup of tea',\n",
       " 'I am a good boy',\n",
       " 'I am a good developer',\n",
       " 'understand the meaning of words',\n",
       " 'your videos are good']"
      ]
     },
     "execution_count": 3,
     "metadata": {},
     "output_type": "execute_result"
    }
   ],
   "source": [
    "sent"
   ]
  },
  {
   "cell_type": "code",
   "execution_count": 4,
   "metadata": {},
   "outputs": [],
   "source": [
    "## Define the vocabulary size\n",
    "voc_size=10000"
   ]
  },
  {
   "cell_type": "code",
   "execution_count": 5,
   "metadata": {},
   "outputs": [
    {
     "data": {
      "text/plain": [
       "['the glass of milk',\n",
       " 'the glass of juice',\n",
       " 'the cup of tea',\n",
       " 'I am a good boy',\n",
       " 'I am a good developer',\n",
       " 'understand the meaning of words',\n",
       " 'your videos are good']"
      ]
     },
     "execution_count": 5,
     "metadata": {},
     "output_type": "execute_result"
    }
   ],
   "source": [
    "sent"
   ]
  },
  {
   "cell_type": "code",
   "execution_count": 6,
   "metadata": {},
   "outputs": [
    {
     "data": {
      "text/plain": [
       "[[3122, 6191, 3106, 517],\n",
       " [3122, 6191, 3106, 3179],\n",
       " [3122, 240, 3106, 4797],\n",
       " [9041, 9724, 9137, 4842, 8421],\n",
       " [9041, 9724, 9137, 4842, 4218],\n",
       " [9187, 3122, 5291, 3106, 7811],\n",
       " [3177, 4900, 8057, 4842]]"
      ]
     },
     "execution_count": 6,
     "metadata": {},
     "output_type": "execute_result"
    }
   ],
   "source": [
    "### One Hot Representation\n",
    "one_hot_repr=[one_hot(words,voc_size)for words in sent]\n",
    "one_hot_repr"
   ]
  },
  {
   "cell_type": "code",
   "execution_count": 7,
   "metadata": {},
   "outputs": [],
   "source": [
    "## word Embedding Representation\n",
    "\n",
    "from tensorflow.keras.layers import Embedding\n",
    "#from tensorflow.keras.processing.sequence import pad_sequences\n",
    "from tensorflow.keras.utils import pad_sequences\n",
    "from tensorflow.keras.models import Sequential"
   ]
  },
  {
   "cell_type": "code",
   "execution_count": 8,
   "metadata": {},
   "outputs": [],
   "source": [
    "import numpy as np"
   ]
  },
  {
   "cell_type": "code",
   "execution_count": 9,
   "metadata": {},
   "outputs": [
    {
     "name": "stdout",
     "output_type": "stream",
     "text": [
      "[[   0    0    0    0 3122 6191 3106  517]\n",
      " [   0    0    0    0 3122 6191 3106 3179]\n",
      " [   0    0    0    0 3122  240 3106 4797]\n",
      " [   0    0    0 9041 9724 9137 4842 8421]\n",
      " [   0    0    0 9041 9724 9137 4842 4218]\n",
      " [   0    0    0 9187 3122 5291 3106 7811]\n",
      " [   0    0    0    0 3177 4900 8057 4842]]\n"
     ]
    }
   ],
   "source": [
    "sent_length=8\n",
    "embedded_docs=pad_sequences(one_hot_repr,padding='pre',maxlen=sent_length)\n",
    "print(embedded_docs)"
   ]
  },
  {
   "cell_type": "code",
   "execution_count": 10,
   "metadata": {},
   "outputs": [],
   "source": [
    "## feature representation\n",
    "dim=10"
   ]
  },
  {
   "cell_type": "code",
   "execution_count": 11,
   "metadata": {},
   "outputs": [
    {
     "name": "stderr",
     "output_type": "stream",
     "text": [
      "c:\\Users\\HP\\anaconda3\\Lib\\site-packages\\keras\\src\\layers\\core\\embedding.py:90: UserWarning: Argument `input_length` is deprecated. Just remove it.\n",
      "  warnings.warn(\n"
     ]
    }
   ],
   "source": [
    "model=Sequential()\n",
    "model.add(Embedding(voc_size,dim,input_length=sent_length))\n",
    "model.compile('adam','mse')"
   ]
  },
  {
   "cell_type": "code",
   "execution_count": 16,
   "metadata": {},
   "outputs": [
    {
     "data": {
      "text/html": [
       "<pre style=\"white-space:pre;overflow-x:auto;line-height:normal;font-family:Menlo,'DejaVu Sans Mono',consolas,'Courier New',monospace\"><span style=\"font-weight: bold\">Model: \"sequential\"</span>\n",
       "</pre>\n"
      ],
      "text/plain": [
       "\u001b[1mModel: \"sequential\"\u001b[0m\n"
      ]
     },
     "metadata": {},
     "output_type": "display_data"
    },
    {
     "data": {
      "text/html": [
       "<pre style=\"white-space:pre;overflow-x:auto;line-height:normal;font-family:Menlo,'DejaVu Sans Mono',consolas,'Courier New',monospace\">┏━━━━━━━━━━━━━━━━━━━━━━━━━━━━━━━━━┳━━━━━━━━━━━━━━━━━━━━━━━━┳━━━━━━━━━━━━━━━┓\n",
       "┃<span style=\"font-weight: bold\"> Layer (type)                    </span>┃<span style=\"font-weight: bold\"> Output Shape           </span>┃<span style=\"font-weight: bold\">       Param # </span>┃\n",
       "┡━━━━━━━━━━━━━━━━━━━━━━━━━━━━━━━━━╇━━━━━━━━━━━━━━━━━━━━━━━━╇━━━━━━━━━━━━━━━┩\n",
       "│ embedding (<span style=\"color: #0087ff; text-decoration-color: #0087ff\">Embedding</span>)           │ (<span style=\"color: #00af00; text-decoration-color: #00af00\">7</span>, <span style=\"color: #00af00; text-decoration-color: #00af00\">8</span>, <span style=\"color: #00af00; text-decoration-color: #00af00\">10</span>)             │       <span style=\"color: #00af00; text-decoration-color: #00af00\">100,000</span> │\n",
       "└─────────────────────────────────┴────────────────────────┴───────────────┘\n",
       "</pre>\n"
      ],
      "text/plain": [
       "┏━━━━━━━━━━━━━━━━━━━━━━━━━━━━━━━━━┳━━━━━━━━━━━━━━━━━━━━━━━━┳━━━━━━━━━━━━━━━┓\n",
       "┃\u001b[1m \u001b[0m\u001b[1mLayer (type)                   \u001b[0m\u001b[1m \u001b[0m┃\u001b[1m \u001b[0m\u001b[1mOutput Shape          \u001b[0m\u001b[1m \u001b[0m┃\u001b[1m \u001b[0m\u001b[1m      Param #\u001b[0m\u001b[1m \u001b[0m┃\n",
       "┡━━━━━━━━━━━━━━━━━━━━━━━━━━━━━━━━━╇━━━━━━━━━━━━━━━━━━━━━━━━╇━━━━━━━━━━━━━━━┩\n",
       "│ embedding (\u001b[38;5;33mEmbedding\u001b[0m)           │ (\u001b[38;5;34m7\u001b[0m, \u001b[38;5;34m8\u001b[0m, \u001b[38;5;34m10\u001b[0m)             │       \u001b[38;5;34m100,000\u001b[0m │\n",
       "└─────────────────────────────────┴────────────────────────┴───────────────┘\n"
      ]
     },
     "metadata": {},
     "output_type": "display_data"
    },
    {
     "data": {
      "text/html": [
       "<pre style=\"white-space:pre;overflow-x:auto;line-height:normal;font-family:Menlo,'DejaVu Sans Mono',consolas,'Courier New',monospace\"><span style=\"font-weight: bold\"> Total params: </span><span style=\"color: #00af00; text-decoration-color: #00af00\">100,000</span> (390.62 KB)\n",
       "</pre>\n"
      ],
      "text/plain": [
       "\u001b[1m Total params: \u001b[0m\u001b[38;5;34m100,000\u001b[0m (390.62 KB)\n"
      ]
     },
     "metadata": {},
     "output_type": "display_data"
    },
    {
     "data": {
      "text/html": [
       "<pre style=\"white-space:pre;overflow-x:auto;line-height:normal;font-family:Menlo,'DejaVu Sans Mono',consolas,'Courier New',monospace\"><span style=\"font-weight: bold\"> Trainable params: </span><span style=\"color: #00af00; text-decoration-color: #00af00\">100,000</span> (390.62 KB)\n",
       "</pre>\n"
      ],
      "text/plain": [
       "\u001b[1m Trainable params: \u001b[0m\u001b[38;5;34m100,000\u001b[0m (390.62 KB)\n"
      ]
     },
     "metadata": {},
     "output_type": "display_data"
    },
    {
     "data": {
      "text/html": [
       "<pre style=\"white-space:pre;overflow-x:auto;line-height:normal;font-family:Menlo,'DejaVu Sans Mono',consolas,'Courier New',monospace\"><span style=\"font-weight: bold\"> Non-trainable params: </span><span style=\"color: #00af00; text-decoration-color: #00af00\">0</span> (0.00 B)\n",
       "</pre>\n"
      ],
      "text/plain": [
       "\u001b[1m Non-trainable params: \u001b[0m\u001b[38;5;34m0\u001b[0m (0.00 B)\n"
      ]
     },
     "metadata": {},
     "output_type": "display_data"
    }
   ],
   "source": [
    "model.summary()"
   ]
  },
  {
   "cell_type": "code",
   "execution_count": 13,
   "metadata": {},
   "outputs": [
    {
     "name": "stdout",
     "output_type": "stream",
     "text": [
      "\u001b[1m1/1\u001b[0m \u001b[32m━━━━━━━━━━━━━━━━━━━━\u001b[0m\u001b[37m\u001b[0m \u001b[1m1s\u001b[0m 883ms/step\n"
     ]
    },
    {
     "data": {
      "text/plain": [
       "array([[[ 0.01152699,  0.02077338,  0.04819944,  0.01879506,\n",
       "          0.00340379, -0.02251996,  0.02009536, -0.03762051,\n",
       "         -0.0042259 ,  0.02347841],\n",
       "        [ 0.01152699,  0.02077338,  0.04819944,  0.01879506,\n",
       "          0.00340379, -0.02251996,  0.02009536, -0.03762051,\n",
       "         -0.0042259 ,  0.02347841],\n",
       "        [ 0.01152699,  0.02077338,  0.04819944,  0.01879506,\n",
       "          0.00340379, -0.02251996,  0.02009536, -0.03762051,\n",
       "         -0.0042259 ,  0.02347841],\n",
       "        [ 0.01152699,  0.02077338,  0.04819944,  0.01879506,\n",
       "          0.00340379, -0.02251996,  0.02009536, -0.03762051,\n",
       "         -0.0042259 ,  0.02347841],\n",
       "        [ 0.04893431,  0.03425889,  0.0343206 ,  0.03517356,\n",
       "         -0.02568245, -0.01303667, -0.02553378, -0.03063585,\n",
       "          0.02225873,  0.01912469],\n",
       "        [ 0.03015453, -0.02414091,  0.00845499, -0.01275256,\n",
       "         -0.04992436,  0.02774853,  0.01953138, -0.04441122,\n",
       "         -0.00423173,  0.01606121],\n",
       "        [-0.04615629, -0.03734379,  0.0201281 , -0.0333228 ,\n",
       "         -0.02479919,  0.01968196,  0.04423163,  0.00114606,\n",
       "          0.03652919,  0.03415879],\n",
       "        [-0.03411333,  0.04348734, -0.00215919,  0.04481164,\n",
       "          0.00879908, -0.02786596, -0.01632264,  0.0411321 ,\n",
       "         -0.02308428, -0.04414419]],\n",
       "\n",
       "       [[ 0.01152699,  0.02077338,  0.04819944,  0.01879506,\n",
       "          0.00340379, -0.02251996,  0.02009536, -0.03762051,\n",
       "         -0.0042259 ,  0.02347841],\n",
       "        [ 0.01152699,  0.02077338,  0.04819944,  0.01879506,\n",
       "          0.00340379, -0.02251996,  0.02009536, -0.03762051,\n",
       "         -0.0042259 ,  0.02347841],\n",
       "        [ 0.01152699,  0.02077338,  0.04819944,  0.01879506,\n",
       "          0.00340379, -0.02251996,  0.02009536, -0.03762051,\n",
       "         -0.0042259 ,  0.02347841],\n",
       "        [ 0.01152699,  0.02077338,  0.04819944,  0.01879506,\n",
       "          0.00340379, -0.02251996,  0.02009536, -0.03762051,\n",
       "         -0.0042259 ,  0.02347841],\n",
       "        [ 0.04893431,  0.03425889,  0.0343206 ,  0.03517356,\n",
       "         -0.02568245, -0.01303667, -0.02553378, -0.03063585,\n",
       "          0.02225873,  0.01912469],\n",
       "        [ 0.03015453, -0.02414091,  0.00845499, -0.01275256,\n",
       "         -0.04992436,  0.02774853,  0.01953138, -0.04441122,\n",
       "         -0.00423173,  0.01606121],\n",
       "        [-0.04615629, -0.03734379,  0.0201281 , -0.0333228 ,\n",
       "         -0.02479919,  0.01968196,  0.04423163,  0.00114606,\n",
       "          0.03652919,  0.03415879],\n",
       "        [-0.01693541,  0.04900755, -0.04053949, -0.0287065 ,\n",
       "          0.00018104,  0.04560632, -0.02242539,  0.03185565,\n",
       "          0.04076529, -0.03260981]],\n",
       "\n",
       "       [[ 0.01152699,  0.02077338,  0.04819944,  0.01879506,\n",
       "          0.00340379, -0.02251996,  0.02009536, -0.03762051,\n",
       "         -0.0042259 ,  0.02347841],\n",
       "        [ 0.01152699,  0.02077338,  0.04819944,  0.01879506,\n",
       "          0.00340379, -0.02251996,  0.02009536, -0.03762051,\n",
       "         -0.0042259 ,  0.02347841],\n",
       "        [ 0.01152699,  0.02077338,  0.04819944,  0.01879506,\n",
       "          0.00340379, -0.02251996,  0.02009536, -0.03762051,\n",
       "         -0.0042259 ,  0.02347841],\n",
       "        [ 0.01152699,  0.02077338,  0.04819944,  0.01879506,\n",
       "          0.00340379, -0.02251996,  0.02009536, -0.03762051,\n",
       "         -0.0042259 ,  0.02347841],\n",
       "        [ 0.04893431,  0.03425889,  0.0343206 ,  0.03517356,\n",
       "         -0.02568245, -0.01303667, -0.02553378, -0.03063585,\n",
       "          0.02225873,  0.01912469],\n",
       "        [ 0.03648089, -0.04547939,  0.00820824,  0.02040461,\n",
       "          0.02629653,  0.00698352, -0.04707761, -0.00206583,\n",
       "          0.02475599, -0.0044335 ],\n",
       "        [-0.04615629, -0.03734379,  0.0201281 , -0.0333228 ,\n",
       "         -0.02479919,  0.01968196,  0.04423163,  0.00114606,\n",
       "          0.03652919,  0.03415879],\n",
       "        [ 0.0001173 , -0.00506123,  0.04321961,  0.01158867,\n",
       "         -0.04894933,  0.01375241,  0.04883939, -0.03258406,\n",
       "         -0.02368401, -0.0056328 ]],\n",
       "\n",
       "       [[ 0.01152699,  0.02077338,  0.04819944,  0.01879506,\n",
       "          0.00340379, -0.02251996,  0.02009536, -0.03762051,\n",
       "         -0.0042259 ,  0.02347841],\n",
       "        [ 0.01152699,  0.02077338,  0.04819944,  0.01879506,\n",
       "          0.00340379, -0.02251996,  0.02009536, -0.03762051,\n",
       "         -0.0042259 ,  0.02347841],\n",
       "        [ 0.01152699,  0.02077338,  0.04819944,  0.01879506,\n",
       "          0.00340379, -0.02251996,  0.02009536, -0.03762051,\n",
       "         -0.0042259 ,  0.02347841],\n",
       "        [-0.0363478 , -0.00835856, -0.03820367, -0.004172  ,\n",
       "          0.00935029,  0.01201047,  0.00567616,  0.03046229,\n",
       "          0.03357276,  0.03700925],\n",
       "        [ 0.01290279, -0.00419585, -0.01232768, -0.01792288,\n",
       "         -0.01120967, -0.03734479,  0.03675649,  0.04417304,\n",
       "         -0.02558799,  0.01342962],\n",
       "        [ 0.04647147, -0.04305252, -0.01773699,  0.04218258,\n",
       "         -0.03303152,  0.0245194 , -0.00300993,  0.04265958,\n",
       "         -0.00771989, -0.03663313],\n",
       "        [ 0.04310958,  0.0381729 ,  0.02059038, -0.04142038,\n",
       "          0.01708943,  0.03375418,  0.02608664,  0.04870727,\n",
       "         -0.01052946, -0.00210626],\n",
       "        [ 0.01610193, -0.01153971,  0.02142907,  0.02130569,\n",
       "          0.04115528, -0.03334197,  0.02633661,  0.0131407 ,\n",
       "          0.00476741,  0.02858131]],\n",
       "\n",
       "       [[ 0.01152699,  0.02077338,  0.04819944,  0.01879506,\n",
       "          0.00340379, -0.02251996,  0.02009536, -0.03762051,\n",
       "         -0.0042259 ,  0.02347841],\n",
       "        [ 0.01152699,  0.02077338,  0.04819944,  0.01879506,\n",
       "          0.00340379, -0.02251996,  0.02009536, -0.03762051,\n",
       "         -0.0042259 ,  0.02347841],\n",
       "        [ 0.01152699,  0.02077338,  0.04819944,  0.01879506,\n",
       "          0.00340379, -0.02251996,  0.02009536, -0.03762051,\n",
       "         -0.0042259 ,  0.02347841],\n",
       "        [-0.0363478 , -0.00835856, -0.03820367, -0.004172  ,\n",
       "          0.00935029,  0.01201047,  0.00567616,  0.03046229,\n",
       "          0.03357276,  0.03700925],\n",
       "        [ 0.01290279, -0.00419585, -0.01232768, -0.01792288,\n",
       "         -0.01120967, -0.03734479,  0.03675649,  0.04417304,\n",
       "         -0.02558799,  0.01342962],\n",
       "        [ 0.04647147, -0.04305252, -0.01773699,  0.04218258,\n",
       "         -0.03303152,  0.0245194 , -0.00300993,  0.04265958,\n",
       "         -0.00771989, -0.03663313],\n",
       "        [ 0.04310958,  0.0381729 ,  0.02059038, -0.04142038,\n",
       "          0.01708943,  0.03375418,  0.02608664,  0.04870727,\n",
       "         -0.01052946, -0.00210626],\n",
       "        [-0.02914912,  0.01260803,  0.04509971, -0.03057865,\n",
       "         -0.04936823, -0.0092389 ,  0.01135279,  0.02840174,\n",
       "         -0.01080663,  0.04103395]],\n",
       "\n",
       "       [[ 0.01152699,  0.02077338,  0.04819944,  0.01879506,\n",
       "          0.00340379, -0.02251996,  0.02009536, -0.03762051,\n",
       "         -0.0042259 ,  0.02347841],\n",
       "        [ 0.01152699,  0.02077338,  0.04819944,  0.01879506,\n",
       "          0.00340379, -0.02251996,  0.02009536, -0.03762051,\n",
       "         -0.0042259 ,  0.02347841],\n",
       "        [ 0.01152699,  0.02077338,  0.04819944,  0.01879506,\n",
       "          0.00340379, -0.02251996,  0.02009536, -0.03762051,\n",
       "         -0.0042259 ,  0.02347841],\n",
       "        [ 0.0037745 ,  0.00490339, -0.0259575 ,  0.00127821,\n",
       "          0.03225997, -0.00707058, -0.04839736,  0.01153859,\n",
       "          0.01600153, -0.00893198],\n",
       "        [ 0.04893431,  0.03425889,  0.0343206 ,  0.03517356,\n",
       "         -0.02568245, -0.01303667, -0.02553378, -0.03063585,\n",
       "          0.02225873,  0.01912469],\n",
       "        [-0.00900518,  0.01927033,  0.01070706,  0.02662157,\n",
       "         -0.04533305,  0.00573738,  0.02326844,  0.02230657,\n",
       "         -0.03511641,  0.04761991],\n",
       "        [-0.04615629, -0.03734379,  0.0201281 , -0.0333228 ,\n",
       "         -0.02479919,  0.01968196,  0.04423163,  0.00114606,\n",
       "          0.03652919,  0.03415879],\n",
       "        [ 0.04192776,  0.02558965, -0.0039508 , -0.04948162,\n",
       "          0.00930656, -0.04144106,  0.01733363, -0.04587733,\n",
       "          0.01423276,  0.04300313]],\n",
       "\n",
       "       [[ 0.01152699,  0.02077338,  0.04819944,  0.01879506,\n",
       "          0.00340379, -0.02251996,  0.02009536, -0.03762051,\n",
       "         -0.0042259 ,  0.02347841],\n",
       "        [ 0.01152699,  0.02077338,  0.04819944,  0.01879506,\n",
       "          0.00340379, -0.02251996,  0.02009536, -0.03762051,\n",
       "         -0.0042259 ,  0.02347841],\n",
       "        [ 0.01152699,  0.02077338,  0.04819944,  0.01879506,\n",
       "          0.00340379, -0.02251996,  0.02009536, -0.03762051,\n",
       "         -0.0042259 ,  0.02347841],\n",
       "        [ 0.01152699,  0.02077338,  0.04819944,  0.01879506,\n",
       "          0.00340379, -0.02251996,  0.02009536, -0.03762051,\n",
       "         -0.0042259 ,  0.02347841],\n",
       "        [-0.04501953, -0.03223342,  0.00388948,  0.04679474,\n",
       "         -0.03149142, -0.04236059,  0.0442862 , -0.01208962,\n",
       "         -0.03508367,  0.01846588],\n",
       "        [-0.03555411,  0.01069932,  0.03680465,  0.00482359,\n",
       "          0.0346346 ,  0.03455031,  0.03200286,  0.01826919,\n",
       "         -0.01241404,  0.03624758],\n",
       "        [-0.02886357,  0.02170554, -0.03655797, -0.01183482,\n",
       "         -0.03204501,  0.01224536, -0.0095896 ,  0.04932136,\n",
       "          0.03979144,  0.01056433],\n",
       "        [ 0.04310958,  0.0381729 ,  0.02059038, -0.04142038,\n",
       "          0.01708943,  0.03375418,  0.02608664,  0.04870727,\n",
       "         -0.01052946, -0.00210626]]], dtype=float32)"
      ]
     },
     "execution_count": 13,
     "metadata": {},
     "output_type": "execute_result"
    }
   ],
   "source": [
    "model.predict(embedded_docs)"
   ]
  },
  {
   "cell_type": "code",
   "execution_count": 14,
   "metadata": {},
   "outputs": [
    {
     "data": {
      "text/plain": [
       "array([   0,    0,    0,    0, 3122, 6191, 3106,  517])"
      ]
     },
     "execution_count": 14,
     "metadata": {},
     "output_type": "execute_result"
    }
   ],
   "source": [
    "embedded_docs[0]"
   ]
  },
  {
   "cell_type": "code",
   "execution_count": 15,
   "metadata": {},
   "outputs": [
    {
     "ename": "ValueError",
     "evalue": "Exception encountered when calling Sequential.call().\n\n\u001b[1mCannot take the length of shape with unknown rank.\u001b[0m\n\nArguments received by Sequential.call():\n  • inputs=tf.Tensor(shape=<unknown>, dtype=int32)\n  • training=False\n  • mask=None",
     "output_type": "error",
     "traceback": [
      "\u001b[1;31m---------------------------------------------------------------------------\u001b[0m",
      "\u001b[1;31mValueError\u001b[0m                                Traceback (most recent call last)",
      "Cell \u001b[1;32mIn[15], line 1\u001b[0m\n\u001b[1;32m----> 1\u001b[0m model\u001b[38;5;241m.\u001b[39mpredict(embedded_docs[\u001b[38;5;241m0\u001b[39m])\n",
      "File \u001b[1;32mc:\\Users\\HP\\anaconda3\\Lib\\site-packages\\keras\\src\\utils\\traceback_utils.py:122\u001b[0m, in \u001b[0;36mfilter_traceback.<locals>.error_handler\u001b[1;34m(*args, **kwargs)\u001b[0m\n\u001b[0;32m    119\u001b[0m     filtered_tb \u001b[38;5;241m=\u001b[39m _process_traceback_frames(e\u001b[38;5;241m.\u001b[39m__traceback__)\n\u001b[0;32m    120\u001b[0m     \u001b[38;5;66;03m# To get the full stack trace, call:\u001b[39;00m\n\u001b[0;32m    121\u001b[0m     \u001b[38;5;66;03m# `keras.config.disable_traceback_filtering()`\u001b[39;00m\n\u001b[1;32m--> 122\u001b[0m     \u001b[38;5;28;01mraise\u001b[39;00m e\u001b[38;5;241m.\u001b[39mwith_traceback(filtered_tb) \u001b[38;5;28;01mfrom\u001b[39;00m \u001b[38;5;28;01mNone\u001b[39;00m\n\u001b[0;32m    123\u001b[0m \u001b[38;5;28;01mfinally\u001b[39;00m:\n\u001b[0;32m    124\u001b[0m     \u001b[38;5;28;01mdel\u001b[39;00m filtered_tb\n",
      "File \u001b[1;32mc:\\Users\\HP\\anaconda3\\Lib\\site-packages\\keras\\src\\utils\\traceback_utils.py:122\u001b[0m, in \u001b[0;36mfilter_traceback.<locals>.error_handler\u001b[1;34m(*args, **kwargs)\u001b[0m\n\u001b[0;32m    119\u001b[0m     filtered_tb \u001b[38;5;241m=\u001b[39m _process_traceback_frames(e\u001b[38;5;241m.\u001b[39m__traceback__)\n\u001b[0;32m    120\u001b[0m     \u001b[38;5;66;03m# To get the full stack trace, call:\u001b[39;00m\n\u001b[0;32m    121\u001b[0m     \u001b[38;5;66;03m# `keras.config.disable_traceback_filtering()`\u001b[39;00m\n\u001b[1;32m--> 122\u001b[0m     \u001b[38;5;28;01mraise\u001b[39;00m e\u001b[38;5;241m.\u001b[39mwith_traceback(filtered_tb) \u001b[38;5;28;01mfrom\u001b[39;00m \u001b[38;5;28;01mNone\u001b[39;00m\n\u001b[0;32m    123\u001b[0m \u001b[38;5;28;01mfinally\u001b[39;00m:\n\u001b[0;32m    124\u001b[0m     \u001b[38;5;28;01mdel\u001b[39;00m filtered_tb\n",
      "\u001b[1;31mValueError\u001b[0m: Exception encountered when calling Sequential.call().\n\n\u001b[1mCannot take the length of shape with unknown rank.\u001b[0m\n\nArguments received by Sequential.call():\n  • inputs=tf.Tensor(shape=<unknown>, dtype=int32)\n  • training=False\n  • mask=None"
     ]
    }
   ],
   "source": [
    "model.predict(embedded_docs[0])"
   ]
  },
  {
   "cell_type": "code",
   "execution_count": null,
   "metadata": {},
   "outputs": [],
   "source": []
  }
 ],
 "metadata": {
  "kernelspec": {
   "display_name": "Python 3",
   "language": "python",
   "name": "python3"
  },
  "language_info": {
   "codemirror_mode": {
    "name": "ipython",
    "version": 3
   },
   "file_extension": ".py",
   "mimetype": "text/x-python",
   "name": "python",
   "nbconvert_exporter": "python",
   "pygments_lexer": "ipython3",
   "version": "3.12.4"
  }
 },
 "nbformat": 4,
 "nbformat_minor": 2
}
